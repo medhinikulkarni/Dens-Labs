{
  "nbformat": 4,
  "nbformat_minor": 0,
  "metadata": {
    "colab": {
      "provenance": [],
      "authorship_tag": "ABX9TyMClb8KTpAUqbzobhLtLBeu",
      "include_colab_link": true
    },
    "kernelspec": {
      "name": "python3",
      "display_name": "Python 3"
    }
  },
  "cells": [
    {
      "cell_type": "markdown",
      "metadata": {
        "id": "view-in-github",
        "colab_type": "text"
      },
      "source": [
        "<a href=\"https://colab.research.google.com/github/medhinikulkarni/Dens-Labs/blob/main/DENS_LAB_4.ipynb\" target=\"_parent\"><img src=\"https://colab.research.google.com/assets/colab-badge.svg\" alt=\"Open In Colab\"/></a>"
      ]
    },
    {
      "cell_type": "markdown",
      "metadata": {
        "id": "WLfcyXfTgN1o"
      },
      "source": [
        "#**NAME - MEDHINI KULKARNI**\n",
        "\n",
        "BTECH EXTC - C SEM 8\n",
        "\n",
        "ROLL NO. - **C025**\n",
        "\n",
        "**DENS LAB 4**\n",
        "\n",
        "DATE OF PERFORMANCE - 28/01/2021\n",
        "\n",
        "**AIM -**\n",
        "\n",
        "To implement classical Feistel Cipher with two rounds"
      ]
    },
    {
      "cell_type": "code",
      "metadata": {
        "colab": {
          "base_uri": "https://localhost:8080/"
        },
        "id": "QcIINuochcBf",
        "outputId": "c4eba96e-a60d-4870-ea79-f44fbe336151"
      },
      "source": [
        "#Taking plain text from user and converting it into 8-bit ascii binary\n",
        "\n",
        "plain_text = input(\"Enter the plain text : \")\n",
        "ascii_value = [ord(p) for p in plain_text]\n",
        "binary_value = [format(b,'08b') for b in ascii_value]\n",
        "binary_value =\"\".join(binary_value)\n",
        "\n",
        "print(f'The original plain text is : {plain_text}')\n",
        "print(f'After converting to binary : {binary_value}')\n",
        "n=len(binary_value)\n",
        "print(n)"
      ],
      "execution_count": null,
      "outputs": [
        {
          "output_type": "stream",
          "text": [
            "Enter the plain text : Medhini\n",
            "The original plain text is : Medhini\n",
            "After converting to binary : 01001101011001010110010001101000011010010110111001101001\n",
            "56\n"
          ],
          "name": "stdout"
        }
      ]
    },
    {
      "cell_type": "code",
      "metadata": {
        "colab": {
          "base_uri": "https://localhost:8080/"
        },
        "id": "flhfy52omafh",
        "outputId": "b7608725-6c64-470e-b1a5-9adfb9a8946d"
      },
      "source": [
        "#Dividing the binary plain text into right and left equal halves\n",
        "l = int(len(binary_value)/2)\n",
        "L1 = binary_value[0:l]\n",
        "R1 = binary_value[l::]\n",
        "\n",
        "#printing both halves\n",
        "print(f'L1 = {L1}')\n",
        "print(f'R1 = {R1}')"
      ],
      "execution_count": null,
      "outputs": [
        {
          "output_type": "stream",
          "text": [
            "L1 = 0100110101100101011001000110\n",
            "R1 = 1000011010010110111001101001\n"
          ],
          "name": "stdout"
        }
      ]
    },
    {
      "cell_type": "code",
      "metadata": {
        "id": "BPHTlvzOqAau"
      },
      "source": [
        "#Generating random key bits using random module\n",
        "import random\n",
        "\n",
        "def generate_keys(n):\n",
        "  key1=''\n",
        "  n=int(n)\n",
        "  for i in range(n):\n",
        "    temp = random.randint(0,1)\n",
        "    temp = str(temp)\n",
        "    key1 = key1+temp\n",
        "  return key1"
      ],
      "execution_count": null,
      "outputs": []
    },
    {
      "cell_type": "code",
      "metadata": {
        "id": "C333g4TWuBR8"
      },
      "source": [
        "#Function to implement logical xor\n",
        "\n",
        "def xor(a,b):\n",
        "  temp = ''\n",
        "  for i in range(l):\n",
        "    if a[i]==b[i]:\n",
        "      temp += '0'\n",
        "    else:\n",
        "      temp += '1'\n",
        "  return temp\n"
      ],
      "execution_count": null,
      "outputs": []
    },
    {
      "cell_type": "markdown",
      "metadata": {
        "id": "kVhkhwNQkWba"
      },
      "source": [
        "#FIESTEL CIPHER ENCRYPTION"
      ]
    },
    {
      "cell_type": "code",
      "metadata": {
        "colab": {
          "base_uri": "https://localhost:8080/"
        },
        "id": "SxSnwZprvAG5",
        "outputId": "b237544b-2c77-480d-8aa7-94f212d596ba"
      },
      "source": [
        "#Generating First Round Key\n",
        "k1= generate_keys(l)\n",
        "print(\"K1= \", k1)"
      ],
      "execution_count": null,
      "outputs": [
        {
          "output_type": "stream",
          "text": [
            "K1=  0001000001111100101101101011\n"
          ],
          "name": "stdout"
        }
      ]
    },
    {
      "cell_type": "code",
      "metadata": {
        "colab": {
          "base_uri": "https://localhost:8080/"
        },
        "id": "DxnEXU2ms5Cp",
        "outputId": "cf12aac2-e087-40dc-e455-a84cf15ca243"
      },
      "source": [
        "#First Round Encryption\n",
        "L2 = R1\n",
        "f1 = xor(R1,k1)\n",
        "R2 = xor(f1,L1)\n",
        "print(f'L2 = {L2}')\n",
        "print(f'R2 = {R2}')"
      ],
      "execution_count": null,
      "outputs": [
        {
          "output_type": "stream",
          "text": [
            "L2 = 1000011010010110111001101001\n",
            "R2 = 1101101110001111001101000100\n"
          ],
          "name": "stdout"
        }
      ]
    },
    {
      "cell_type": "code",
      "metadata": {
        "colab": {
          "base_uri": "https://localhost:8080/"
        },
        "id": "CwSmv228u12f",
        "outputId": "465a5fca-2645-40f1-c905-5845b9386224"
      },
      "source": [
        "#Generating Second Round Key\n",
        "k2= generate_keys(l)\n",
        "print(\"K2= \", k2)"
      ],
      "execution_count": null,
      "outputs": [
        {
          "output_type": "stream",
          "text": [
            "K2=  1001111101101101011110100111\n"
          ],
          "name": "stdout"
        }
      ]
    },
    {
      "cell_type": "code",
      "metadata": {
        "colab": {
          "base_uri": "https://localhost:8080/"
        },
        "id": "K23LfJfcvmQt",
        "outputId": "7439c39f-17b8-405f-d61a-54f0a8451eda"
      },
      "source": [
        "#Second Round Encryption\n",
        "L3 = R2\n",
        "f2 = xor(R2,k2)\n",
        "R3 = xor(f2,L2)\n",
        "print(f'L3 = {L3}')\n",
        "print(f'R3 = {R3}')"
      ],
      "execution_count": null,
      "outputs": [
        {
          "output_type": "stream",
          "text": [
            "L3 = 1101101110001111001101000100\n",
            "R3 = 1100001001110100101010001010\n"
          ],
          "name": "stdout"
        }
      ]
    },
    {
      "cell_type": "code",
      "metadata": {
        "colab": {
          "base_uri": "https://localhost:8080/"
        },
        "id": "u5FbaQ_j0TuO",
        "outputId": "55a047e9-7cb9-425c-c9c8-ddec30b8a347"
      },
      "source": [
        "#Cipher Text Generation\n",
        "\n",
        "def BinToDec(binary):\n",
        "  string = int(binary, 2)\n",
        "  return string\n",
        "\n",
        "cipher_bin = L3+R3\n",
        "cipher_str = ''\n",
        "for i in range(0, len(cipher_bin), 7):\n",
        "  temp_data = cipher_bin[i:i + 7]\n",
        "  decimal_data = BinToDec(temp_data)\n",
        "  cipher_str = cipher_str + chr(decimal_data)\n",
        "\n",
        "print(\"Cipher Text : \", cipher_str)"
      ],
      "execution_count": null,
      "outputs": [
        {
          "output_type": "stream",
          "text": [
            "Cipher Text :  mcfDa\u001d\u0015\n",
            "\n"
          ],
          "name": "stdout"
        }
      ]
    },
    {
      "cell_type": "markdown",
      "metadata": {
        "id": "pkwEvpcpkoAO"
      },
      "source": [
        "#FIESTEL CIPHER DECRYPTION"
      ]
    },
    {
      "cell_type": "code",
      "metadata": {
        "colab": {
          "base_uri": "https://localhost:8080/"
        },
        "id": "wEzw_Mryv8c1",
        "outputId": "2c300e3e-ff5d-40ad-d19f-eefdbd922d31"
      },
      "source": [
        "#Second Round decryption\n",
        "L4=L3\n",
        "R4=R3\n",
        "\n",
        "f3= xor(L4,k2)\n",
        "L5= xor(R4,f3)\n",
        "R5=L4\n",
        "print(f'L5 = {L5}')\n",
        "print(f'R5 = {R5}')"
      ],
      "execution_count": null,
      "outputs": [
        {
          "output_type": "stream",
          "text": [
            "L5 = 1000011010010110111001101001\n",
            "R5 = 1101101110001111001101000100\n"
          ],
          "name": "stdout"
        }
      ]
    },
    {
      "cell_type": "code",
      "metadata": {
        "colab": {
          "base_uri": "https://localhost:8080/"
        },
        "id": "obI1wQUiwSCU",
        "outputId": "898b91b1-f3dc-41cd-d5c6-845f45685620"
      },
      "source": [
        "#First Round decryption\n",
        "f4= xor(L5,k1)\n",
        "L6= xor(R5,f4)\n",
        "R6=L5\n",
        "print(f'L6 = {L6}')\n",
        "print(f'R6 = {R6}')"
      ],
      "execution_count": null,
      "outputs": [
        {
          "output_type": "stream",
          "text": [
            "L6 = 0100110101100101011001000110\n",
            "R6 = 1000011010010110111001101001\n"
          ],
          "name": "stdout"
        }
      ]
    },
    {
      "cell_type": "code",
      "metadata": {
        "colab": {
          "base_uri": "https://localhost:8080/"
        },
        "id": "piXQzOXveamm",
        "outputId": "7249965b-09d2-4d95-e2ca-4c346206f6a8"
      },
      "source": [
        "#Retrieving original plain text\n",
        "\n",
        "dec_bin = L6+R6\n",
        "binary_int = int(dec_bin, 2)\n",
        "\n",
        "#Decoding binary to string\n",
        "\n",
        "byte_number = binary_int.bit_length() + 7 // 8\n",
        "binary_array = binary_int.to_bytes(byte_number, byteorder = \"big\")\n",
        "recovered_plain_text = binary_array.decode(encoding=\"ISO-8859-1\")\n",
        "\n",
        "print(f'The recovered plain text is : {recovered_plain_text}')"
      ],
      "execution_count": null,
      "outputs": [
        {
          "output_type": "stream",
          "text": [
            "The recovered plain text is : \u0000\u0000\u0000\u0000\u0000\u0000\u0000\u0000\u0000\u0000\u0000\u0000\u0000\u0000\u0000\u0000\u0000\u0000\u0000\u0000\u0000\u0000\u0000\u0000\u0000\u0000\u0000\u0000\u0000\u0000\u0000\u0000\u0000\u0000\u0000\u0000\u0000\u0000\u0000\u0000\u0000\u0000\u0000\u0000\u0000\u0000\u0000\u0000Medhini\n"
          ],
          "name": "stdout"
        }
      ]
    },
    {
      "cell_type": "markdown",
      "metadata": {
        "id": "uvq6U1_9oubX"
      },
      "source": [
        "#**CONCLUSION -**\n",
        "\n",
        "In this experiment, we have implemented Fiestel Cipher for 2 rounds.\n",
        "\n",
        "First, we take plain text from user input and convert it into ASCII and further covert it to 8-bit binary form. We then divide this binary value into right and left equal halves which are used for encryption and decryption purposes as given in the algorithm of this cipher.\n",
        "\n",
        "In encryption, we need to generate 2 keys which we have using random module, which need to be equal length to that of the the two halves we obtained earlier. We perform XOR operation using a function to obtain right half and left half is equal to the right half of the input value. This is repeated for the second round as well.\n",
        "\n",
        "In decryption, first the second round is decrypted and then the first round. It is exact reverse of the encryption process, which makes Fiestel cipher a symmetrical structure (both encryption and decryption systems are similar, but opposite in direction). It also uses the same keys used in encryption, to decrypt and original plain text is retrieved."
      ]
    }
  ]
}