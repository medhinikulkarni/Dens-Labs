{
  "nbformat": 4,
  "nbformat_minor": 0,
  "metadata": {
    "colab": {
      "provenance": [],
      "include_colab_link": true
    },
    "kernelspec": {
      "name": "python3",
      "display_name": "Python 3"
    }
  },
  "cells": [
    {
      "cell_type": "markdown",
      "metadata": {
        "id": "view-in-github",
        "colab_type": "text"
      },
      "source": [
        "<a href=\"https://colab.research.google.com/github/medhinikulkarni/Dens-Labs/blob/main/DENS_LAB_2.ipynb\" target=\"_parent\"><img src=\"https://colab.research.google.com/assets/colab-badge.svg\" alt=\"Open In Colab\"/></a>"
      ]
    },
    {
      "cell_type": "code",
      "metadata": {
        "id": "dRA5EusmPbPj"
      },
      "source": [
        "import string\n",
        "all_chars = string.ascii_letters + '1234567890' + '!@#$%^&*()~[]{}\\|/?>.,<`'"
      ],
      "execution_count": null,
      "outputs": []
    },
    {
      "cell_type": "code",
      "metadata": {
        "id": "EOmDZH39T186"
      },
      "source": [
        "#Creating a dictionary to encrypt plaintext into cipher text\n",
        "enc_dict={}\n",
        "key = 3 #Caesar cipher key=3\n",
        "for i in range(len(all_chars)):\n",
        "    enc_dict[all_chars[i]]= all_chars[(i-key)%len(all_chars)]"
      ],
      "execution_count": null,
      "outputs": []
    },
    {
      "cell_type": "code",
      "metadata": {
        "colab": {
          "base_uri": "https://localhost:8080/"
        },
        "id": "c5876ithUYgq",
        "outputId": "c1443300-b31f-44df-89a1-4da797146120"
      },
      "source": [
        "plain_text = input(\"Enter string to be encrypted \")\n",
        "cipher_text = []\n",
        "#generating a loop to obtain cipher text\n",
        "for char in plain_text:\n",
        "    if char in all_chars:\n",
        "        temp= enc_dict[char]\n",
        "        cipher_text.append(temp)\n",
        "    else:\n",
        "        temp=char\n",
        "        cipher_text.append(temp)\n",
        "cipher_text= \"\".join(cipher_text)\n",
        "#print(\"Cipher text is\",cipher_txt)"
      ],
      "execution_count": null,
      "outputs": [
        {
          "output_type": "stream",
          "text": [
            "Enter string to be encrypted medhini7799!\n"
          ],
          "name": "stdout"
        }
      ]
    },
    {
      "cell_type": "code",
      "metadata": {
        "id": "Uyveh1dUbLPv"
      },
      "source": [
        "#looping key values to 'guess' the key\n",
        "for key in range(len(all_chars)):\n",
        "  dec_dict = {}\n",
        "  decrypted_text = []\n",
        "  for i in range(len(all_chars)):\n",
        "    dec_dict[i] = all_chars[(i+key)%(len(all_chars))]"
      ],
      "execution_count": null,
      "outputs": []
    },
    {
      "cell_type": "markdown",
      "metadata": {
        "id": "4G5p4mqkl9D8"
      },
      "source": [
        "Applying Brute Force Decryption on Caesar cipher :-"
      ]
    },
    {
      "cell_type": "code",
      "metadata": {
        "colab": {
          "base_uri": "https://localhost:8080/"
        },
        "id": "F0aAZslOeDhv",
        "outputId": "6cda799b-aff4-40d6-cb3d-5318849dd737"
      },
      "source": [
        "#creating a loop to display all keys and their corresponding decrypted message\n",
        "for key in range(len(all_chars)):\n",
        "  translated = ''\n",
        "  for symbol in cipher_text:\n",
        "    if symbol in all_chars:\n",
        "      num = all_chars.find(symbol)\n",
        "      num = num - key\n",
        "      if num < 0:\n",
        "        num = num + len(all_chars)\n",
        "        translated = translated + all_chars[num]\n",
        "      else:\n",
        "        translated = translated + symbol\n",
        "  print('Hacking key #%s: %s' % (key, translated))"
      ],
      "execution_count": null,
      "outputs": [
        {
          "output_type": "stream",
          "text": [
            "Hacking key #0: jbaefkf44668\n",
            "Hacking key #1: jb`efkf44668\n",
            "Hacking key #2: j`<efkf44668\n",
            "Hacking key #3: j<,efkf44668\n",
            "Hacking key #4: j,.efkf44668\n",
            "Hacking key #5: j.>`fkf44668\n",
            "Hacking key #6: j>?<`k`44668\n",
            "Hacking key #7: j?/,<k<44668\n",
            "Hacking key #8: j/|.,k,44668\n",
            "Hacking key #9: j|\\>.k.44668\n",
            "Hacking key #10: `\\}?>k>44668\n",
            "Hacking key #11: <}{/?`?44668\n",
            "Hacking key #12: ,{]|/</44668\n",
            "Hacking key #13: .][\\|,|44668\n",
            "Hacking key #14: >[~}\\.\\44668\n",
            "Hacking key #15: ?~){}>}44668\n",
            "Hacking key #16: /)(]{?{44668\n",
            "Hacking key #17: |(*[]/]44668\n",
            "Hacking key #18: \\*&~[|[44668\n",
            "Hacking key #19: }&^)~\\~44668\n",
            "Hacking key #20: {^%()})44668\n",
            "Hacking key #21: ]%$*({(44668\n",
            "Hacking key #22: [$#&*]*44668\n",
            "Hacking key #23: ~#@^&[&44668\n",
            "Hacking key #24: )@!%^~^44668\n",
            "Hacking key #25: (!0$%)%44668\n",
            "Hacking key #26: *09#$($44668\n",
            "Hacking key #27: &98@#*#44668\n",
            "Hacking key #28: ^87!@&@44668\n",
            "Hacking key #29: %760!^!44668\n",
            "Hacking key #30: $6590%044668\n",
            "Hacking key #31: #5489$944668\n",
            "Hacking key #32: @4378#844668\n",
            "Hacking key #33: !3267@744668\n",
            "Hacking key #34: 02156!644668\n",
            "Hacking key #35: 91Z450544668\n",
            "Hacking key #36: 8ZY349444668\n",
            "Hacking key #37: 7YX238344668\n",
            "Hacking key #38: 6XW127244668\n",
            "Hacking key #39: 5WVZ16144668\n",
            "Hacking key #40: 4VUYZ5Z44668\n",
            "Hacking key #41: 3UTXY4Y44668\n",
            "Hacking key #42: 2TSWX3X44668\n",
            "Hacking key #43: 1SRVW2W44668\n",
            "Hacking key #44: ZRQUV1V44668\n",
            "Hacking key #45: YQPTUZU44668\n",
            "Hacking key #46: XPOSTYT44668\n",
            "Hacking key #47: WONRSXS44668\n",
            "Hacking key #48: VNMQRWR44668\n",
            "Hacking key #49: UMLPQVQ44668\n",
            "Hacking key #50: TLKOPUP44668\n",
            "Hacking key #51: SKJNOTO44668\n",
            "Hacking key #52: RJIMNSN44668\n",
            "Hacking key #53: QIHLMRM44668\n",
            "Hacking key #54: PHGKLQL44668\n",
            "Hacking key #55: OGFJKPK44668\n",
            "Hacking key #56: NFEIJOJ``668\n",
            "Hacking key #57: MEDHINI<<668\n",
            "Hacking key #58: LDCGHMH,,``8\n",
            "Hacking key #59: KCBFGLG..<<8\n",
            "Hacking key #60: JBAEFKF>>,,`\n",
            "Hacking key #61: IAzDEJE??..<\n",
            "Hacking key #62: HzyCDID//>>,\n",
            "Hacking key #63: GyxBCHC||??.\n",
            "Hacking key #64: FxwABGB\\\\//>\n",
            "Hacking key #65: EwvzAFA}}||?\n",
            "Hacking key #66: DvuyzEz{{\\\\/\n",
            "Hacking key #67: CutxyDy]]}}|\n",
            "Hacking key #68: BtswxCx[[{{\\\n",
            "Hacking key #69: AsrvwBw~~]]}\n",
            "Hacking key #70: zrquvAv))[[{\n",
            "Hacking key #71: yqptuzu((~~]\n",
            "Hacking key #72: xpostyt**))[\n",
            "Hacking key #73: wonrsxs&&((~\n",
            "Hacking key #74: vnmqrwr^^**)\n",
            "Hacking key #75: umlpqvq%%&&(\n",
            "Hacking key #76: tlkopup$$^^*\n",
            "Hacking key #77: skjnoto##%%&\n",
            "Hacking key #78: rjimnsn@@$$^\n",
            "Hacking key #79: qihlmrm!!##%\n",
            "Hacking key #80: phgklql00@@$\n",
            "Hacking key #81: ogfjkpk99!!#\n",
            "Hacking key #82: nfeijoj8800@\n",
            "Hacking key #83: medhini7799!\n",
            "Hacking key #84: ldcghmh66880\n",
            "Hacking key #85: kcbfglg55779\n"
          ],
          "name": "stdout"
        }
      ]
    },
    {
      "cell_type": "markdown",
      "metadata": {
        "id": "VWuoaYnVkfx1"
      },
      "source": [
        "Here we see that the key = **83** gives the correct recovered plain text"
      ]
    },
    {
      "cell_type": "markdown",
      "metadata": {
        "id": "iG3Kxu1tko3v"
      },
      "source": [
        "## **TRANSPOSITION CIPHER - BRUTE FORCE DECRYPTION**"
      ]
    },
    {
      "cell_type": "code",
      "metadata": {
        "id": "B6lAgwIy8_E5",
        "colab": {
          "base_uri": "https://localhost:8080/"
        },
        "outputId": "d7d3fe76-9072-41d5-94bf-0d1954a4d9e2"
      },
      "source": [
        "plain_txt= input(\"Enter the string to be encrypted: \")\n",
        "key= int(input(\"Enter the key: \"))"
      ],
      "execution_count": null,
      "outputs": [
        {
          "output_type": "stream",
          "text": [
            "Enter the string to be encrypted: Data encryption\n",
            "Enter the key: 7\n"
          ],
          "name": "stdout"
        }
      ]
    },
    {
      "cell_type": "code",
      "metadata": {
        "id": "rUbLPFtn9Cgn",
        "colab": {
          "base_uri": "https://localhost:8080/"
        },
        "outputId": "fa494967-4bd2-49e8-d2d1-1c7e1cbc7844"
      },
      "source": [
        "#Convert plain_txt string to list\n",
        "plain_txt= list(plain_txt)\n",
        "cipher_txt=[]\n",
        "n=len(plain_txt)\n",
        "\n",
        "#loop to encrypt plain text into cipher text\n",
        "for i in range(n):\n",
        "    temp= plain_txt[(i-key)%n]\n",
        "    cipher_txt.append(temp)\n",
        "\n",
        "cipher_txt=\"\".join(cipher_txt)\n",
        "print(f\"Encrypted Cipher text is : {cipher_txt}\")"
      ],
      "execution_count": null,
      "outputs": [
        {
          "output_type": "stream",
          "text": [
            "Encrypted Cipher text is : ryptionData enc\n"
          ],
          "name": "stdout"
        }
      ]
    },
    {
      "cell_type": "code",
      "metadata": {
        "colab": {
          "base_uri": "https://localhost:8080/"
        },
        "id": "hu8O3XIB9FOW",
        "outputId": "a8ae0cc8-3f41-4d08-dd66-35c441f1ba87"
      },
      "source": [
        "# loop to recover plain text from cipher text using decryption\n",
        "# diplay all keys until the correct plain text is recovered\n",
        "for key in range(len(all_chars)):\n",
        "  cipher_txt= list(cipher_txt)\n",
        "  retrieved_txt=[]\n",
        "  for i in range(n):\n",
        "    temp1= cipher_txt[(i+key)%n]\n",
        "    retrieved_txt=list(retrieved_txt)\n",
        "    retrieved_txt.append(temp1)\n",
        "    retrieved_txt=\"\".join(retrieved_txt)\n",
        "  print(\"Key: \",key)\n",
        "  print(\"Decrypted Text: \",retrieved_txt)\n",
        "  data_decrypt= input(\"is data decrypted? \")\n",
        "  if (data_decrypt == 'yes'):\n",
        "      break;"
      ],
      "execution_count": null,
      "outputs": [
        {
          "output_type": "stream",
          "text": [
            "Key:  0\n",
            "Decrypted Text:  ryptionData enc\n",
            "is data decrypted? No\n",
            "Key:  1\n",
            "Decrypted Text:  yptionData encr\n",
            "is data decrypted? No\n",
            "Key:  2\n",
            "Decrypted Text:  ptionData encry\n",
            "is data decrypted? No\n",
            "Key:  3\n",
            "Decrypted Text:  tionData encryp\n",
            "is data decrypted? No\n",
            "Key:  4\n",
            "Decrypted Text:  ionData encrypt\n",
            "is data decrypted? No\n",
            "Key:  5\n",
            "Decrypted Text:  onData encrypti\n",
            "is data decrypted? No\n",
            "Key:  6\n",
            "Decrypted Text:  nData encryptio\n",
            "is data decrypted? No\n",
            "Key:  7\n",
            "Decrypted Text:  Data encryption\n",
            "is data decrypted? yes\n"
          ],
          "name": "stdout"
        }
      ]
    },
    {
      "cell_type": "markdown",
      "metadata": {
        "id": "H2hftykw9lqf"
      },
      "source": [
        "# **CONCLUSION -**\n",
        "\n",
        "In this experiment, we have performed brute Force Cryptanalysis on Caesar Cipher and Transposition Cipher. It is a type of analysis where in the attacker attempts to 'guess' the key by submitting many attempts in the hopes of getting it right in one of the attempts. Hence, in this experiment, we aim to loop through all the possible keys and display all results to see which key gives the correct result.\n",
        "\n",
        "In Caesar Cipher we code a loop to display all keys possible with their corresponding decrypted text message. We see that the key=83 gives the correct original plain text.\n",
        "\n",
        "In Transposition Cipher, we loop through keys but also make it an interactive code where in the user is allowed to check if consective keys give them the correct decrypted message by entering 'Yes' or 'No'. That way, the code breaks when the key is correctly guessed. In the above example, we see that the code runs till we find the correct key which is = 7."
      ]
    }
  ]
}