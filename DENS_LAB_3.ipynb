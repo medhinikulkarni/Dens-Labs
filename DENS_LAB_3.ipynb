{
  "nbformat": 4,
  "nbformat_minor": 0,
  "metadata": {
    "colab": {
      "provenance": [],
      "authorship_tag": "ABX9TyNvljPc+M4U+XUyRvY3sh0q",
      "include_colab_link": true
    },
    "kernelspec": {
      "name": "python3",
      "display_name": "Python 3"
    }
  },
  "cells": [
    {
      "cell_type": "markdown",
      "metadata": {
        "id": "view-in-github",
        "colab_type": "text"
      },
      "source": [
        "<a href=\"https://colab.research.google.com/github/medhinikulkarni/Dens-Labs/blob/main/DENS_LAB_3.ipynb\" target=\"_parent\"><img src=\"https://colab.research.google.com/assets/colab-badge.svg\" alt=\"Open In Colab\"/></a>"
      ]
    },
    {
      "cell_type": "markdown",
      "metadata": {
        "id": "vvWDNO0Pejqw"
      },
      "source": [
        "#**NAME - MEDHINI KULKARNI**\n",
        "\n",
        "BTECH EXTC - C SEM 8\n",
        "\n",
        "ROLL NO. - **C025**\n",
        "\n",
        "**DENS LAB 3**\n",
        "\n",
        "DATE OF PERFORMANCE - 21/01/2021\n",
        "\n",
        "**AIM -**\n",
        "\n",
        "a. To write a program to find multiplicative inverse a a given number in 𝑍𝑛\n",
        "\n",
        "b. To implement Affine Cipher"
      ]
    },
    {
      "cell_type": "markdown",
      "metadata": {
        "id": "3HQaPxbRgSQw"
      },
      "source": [
        "#**a) To find Multiplicative inverse -**"
      ]
    },
    {
      "cell_type": "code",
      "metadata": {
        "colab": {
          "base_uri": "https://localhost:8080/"
        },
        "id": "ypSPIe1WfMh-",
        "outputId": "2b547e41-2b25-4ace-be81-1d3d6c4c3640"
      },
      "source": [
        "#importing required libraries\n",
        "import warnings\n",
        "warnings.filterwarnings(\"ignore\")\n",
        "import string\n",
        "all_chars = string.ascii_lowercase\n",
        "print(all_chars)\n",
        "n = len(all_chars)\n",
        "print(n)"
      ],
      "execution_count": null,
      "outputs": [
        {
          "output_type": "stream",
          "text": [
            "abcdefghijklmnopqrstuvwxyz\n",
            "26\n"
          ],
          "name": "stdout"
        }
      ]
    },
    {
      "cell_type": "code",
      "metadata": {
        "id": "8i7LCrR-lrWK",
        "colab": {
          "base_uri": "https://localhost:8080/"
        },
        "outputId": "40fc35f7-d031-473b-c669-ada2dd5266a7"
      },
      "source": [
        "#Taking keys from the user\n",
        "k1 = input(\"Enter key1: \") #multiplicative key\n",
        "k2 = input(\"Enter key2: \") #additive key\n",
        "k1=int(k1)\n",
        "k2=int(k2)\n",
        "\n",
        "#Calculating multiplicative inverse k3 of k1 for decryption purposes\n",
        "for i in range(1,n+1):\n",
        "  if (k1*i)%n==1:\n",
        "    k3=i\n",
        "  else:\n",
        "    None\n",
        "\n",
        "k3=int(k3)\n",
        "print(f\"Multiplicative inverse of key1 is : {k3}\")"
      ],
      "execution_count": null,
      "outputs": [
        {
          "output_type": "stream",
          "text": [
            "Enter key1: 7\n",
            "Enter key2: 20\n",
            "Multiplicative inverse of key1 is : 15\n"
          ],
          "name": "stdout"
        }
      ]
    },
    {
      "cell_type": "markdown",
      "metadata": {
        "id": "3cEUiOzsga38"
      },
      "source": [
        "#**b) To implement Affine Cipher -**"
      ]
    },
    {
      "cell_type": "code",
      "metadata": {
        "id": "p8HlnW6dl1x8"
      },
      "source": [
        "#Creating two functions for encryption and decryption of plain text\n",
        "\n",
        "def encrypt(text, key):\n",
        "  #C = (k1*P + k2) % 26\n",
        "  return ''.join([chr(((key[0]*(ord(t) - ord('A')) + key[1] ) % 26) + ord('A')) for t in text.upper().replace(' ', '') ])\n",
        "\n",
        "def decrypt(cipher, key):\n",
        "  #P = (k1^-1 * (C - k2)) % 26\n",
        "  return ''.join([ chr(((key[2]*(ord(c) - ord('A') - key[1])) % 26) + ord('A')) for c in cipher ])"
      ],
      "execution_count": null,
      "outputs": []
    },
    {
      "cell_type": "code",
      "metadata": {
        "id": "auWDzkpHnToy"
      },
      "source": [
        "#main function to implement above functions\n",
        "\n",
        "def main():\n",
        "  plain_text = input(\"Enter text to be encrypted\")\n",
        "  key = [k1,k2,k3]\n",
        "  enc_text = encrypt(plain_text,key)\n",
        "  print(f\"Encrypted Cipher Text is: {enc_text}\")\n",
        "  dec_text = decrypt(enc_text, key)\n",
        "  print(f\"Recovered Plain Text is: {dec_text}\")"
      ],
      "execution_count": null,
      "outputs": []
    },
    {
      "cell_type": "code",
      "metadata": {
        "colab": {
          "base_uri": "https://localhost:8080/"
        },
        "id": "-H5rueA7pFEz",
        "outputId": "e6b3e8b6-6f89-4d1f-ba8f-f94507b986e0"
      },
      "source": [
        "main()"
      ],
      "execution_count": null,
      "outputs": [
        {
          "output_type": "stream",
          "text": [
            "Enter text to be encryptedMEDHINI\n",
            "Encrypted Cipher Text is: AWPRYHY\n",
            "Recovered Plain Text is: MEDHINI\n"
          ],
          "name": "stdout"
        }
      ]
    },
    {
      "cell_type": "markdown",
      "metadata": {
        "id": "uRrn9lcIgnvD"
      },
      "source": [
        "#**CONCLUSION -**\n",
        "\n",
        "In this experiment we have implemented Affine Cipher. It is a combination of additive and multiplicative ciphers, which means that it uses two keys - additive (k2) and multiplicative (k1) both.\n",
        "\n",
        "For encryption, it uses a simple formula of CipherText = (k1*P + k2) % 26 where k1, k2 are keys and P is plaintext. We consider all lower case alphabets which comes to n=26. Cipher text is obtained using encrypt function.\n",
        "\n",
        "For decryption, the formula is PlainText = (k1^-1 * (C - k2)) % 26. In this, we need to calculative inverse of the multiplicative key. Inorder to do this we run a loop to check if it exists, it must give remainder = 1. On finding the inverse, we obtain recovered plain text using the decrypt function."
      ]
    }
  ]
}