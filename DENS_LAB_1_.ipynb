{
  "nbformat": 4,
  "nbformat_minor": 0,
  "metadata": {
    "colab": {
      "provenance": [],
      "authorship_tag": "ABX9TyMJlPb/GGm//s+4F+ac1NeP",
      "include_colab_link": true
    },
    "kernelspec": {
      "name": "python3",
      "display_name": "Python 3"
    }
  },
  "cells": [
    {
      "cell_type": "markdown",
      "metadata": {
        "id": "view-in-github",
        "colab_type": "text"
      },
      "source": [
        "<a href=\"https://colab.research.google.com/github/medhinikulkarni/Dens-Labs/blob/main/DENS_LAB_1_.ipynb\" target=\"_parent\"><img src=\"https://colab.research.google.com/assets/colab-badge.svg\" alt=\"Open In Colab\"/></a>"
      ]
    },
    {
      "cell_type": "markdown",
      "metadata": {
        "id": "aWqdP-PMyxSY"
      },
      "source": [
        "**MEDHINI KULKARNI**\n",
        "\n",
        "BTECH EXTC SEM 8\n",
        "\n",
        "ROLL NO. - C025\n",
        "\n",
        "**DENS LAB 1**\n",
        "\n",
        "DATE OF PERFORMANCE - 10/12/2020\n"
      ]
    },
    {
      "cell_type": "markdown",
      "metadata": {
        "id": "-3s3VuLozi8o"
      },
      "source": [
        "AIM -\n",
        "\n",
        "a. To implement Substitution Cipher and Caesar Cipher\n",
        "\n",
        "b. To implement Transposition Cipher and Reverse Cipher"
      ]
    },
    {
      "cell_type": "markdown",
      "metadata": {
        "id": "8Je1nbllzuFe"
      },
      "source": [
        "A) SUBSTITUTION AND CAESAR CIPHER"
      ]
    },
    {
      "cell_type": "code",
      "metadata": {
        "colab": {
          "base_uri": "https://localhost:8080/"
        },
        "id": "DFUzzivszwMA",
        "outputId": "d4702504-8019-4446-ce31-003a1b20c83a"
      },
      "source": [
        "import string\n",
        "all_letters = string.ascii_letters\n",
        "digits = '1234567890'\n",
        "symbols = '!@#$%^&*\\/<>~-=+][}{;:'\n",
        "all_chars = all_letters + digits + symbols\n",
        "print(all_chars)"
      ],
      "execution_count": null,
      "outputs": [
        {
          "output_type": "stream",
          "text": [
            "abcdefghijklmnopqrstuvwxyzABCDEFGHIJKLMNOPQRSTUVWXYZ1234567890!@#$%^&*\\/<>~-=+][}{;:\n"
          ],
          "name": "stdout"
        }
      ]
    },
    {
      "cell_type": "code",
      "metadata": {
        "colab": {
          "base_uri": "https://localhost:8080/"
        },
        "id": "CgU6nRMSzysr",
        "outputId": "eb7ab9d6-5955-49f8-bb1d-56885fcd2eaa"
      },
      "source": [
        "#creating a dictionary containing substitution values based on input key\n",
        "sub_dict1={}\n",
        "print(\"Key for Caesar Cipher = 3\")\n",
        "key = int(input(\"Enter the key you wish to use: \"))\n",
        "for i in range(len(all_chars)):\n",
        "    sub_dict1[all_chars[i]] = all_chars[(i-key)%(len(all_chars))]\n",
        "print(sub_dict1)"
      ],
      "execution_count": null,
      "outputs": [
        {
          "output_type": "stream",
          "text": [
            "Key for Caesar Cipher = 3\n",
            "Enter the key you wish to use: 5\n",
            "{'a': '[', 'b': '}', 'c': '{', 'd': ';', 'e': ':', 'f': 'a', 'g': 'b', 'h': 'c', 'i': 'd', 'j': 'e', 'k': 'f', 'l': 'g', 'm': 'h', 'n': 'i', 'o': 'j', 'p': 'k', 'q': 'l', 'r': 'm', 's': 'n', 't': 'o', 'u': 'p', 'v': 'q', 'w': 'r', 'x': 's', 'y': 't', 'z': 'u', 'A': 'v', 'B': 'w', 'C': 'x', 'D': 'y', 'E': 'z', 'F': 'A', 'G': 'B', 'H': 'C', 'I': 'D', 'J': 'E', 'K': 'F', 'L': 'G', 'M': 'H', 'N': 'I', 'O': 'J', 'P': 'K', 'Q': 'L', 'R': 'M', 'S': 'N', 'T': 'O', 'U': 'P', 'V': 'Q', 'W': 'R', 'X': 'S', 'Y': 'T', 'Z': 'U', '1': 'V', '2': 'W', '3': 'X', '4': 'Y', '5': 'Z', '6': '1', '7': '2', '8': '3', '9': '4', '0': '5', '!': '6', '@': '7', '#': '8', '$': '9', '%': '0', '^': '!', '&': '@', '*': '#', '\\\\': '$', '/': '%', '<': '^', '>': '&', '~': '*', '-': '\\\\', '=': '/', '+': '<', ']': '>', '[': '~', '}': '-', '{': '=', ';': '+', ':': ']'}\n"
          ],
          "name": "stdout"
        }
      ]
    },
    {
      "cell_type": "code",
      "metadata": {
        "colab": {
          "base_uri": "https://localhost:8080/"
        },
        "id": "jGBjyL3cz0_N",
        "outputId": "27df0827-fb18-4425-e9a4-06d7a6a9fcde"
      },
      "source": [
        "#Creating a loop to find encrypted cipher text from input plain text\n",
        "plain_text = input(\"Enter a string to be encrypted : \")\n",
        "cipher_text = []\n",
        "for char in plain_text:\n",
        "    if char in all_chars:\n",
        "        temp=sub_dict1[char]\n",
        "        cipher_text.append(temp)\n",
        "    else:\n",
        "        temp=char\n",
        "        cipher_text.append(temp)\n",
        "cipher_text = \"\".join(cipher_text)\n",
        "print(f\"Cipher Text for the given input string is : {cipher_text}\")"
      ],
      "execution_count": null,
      "outputs": [
        {
          "output_type": "stream",
          "text": [
            "Enter a string to be encrypted : ~MedHIni!Kulk@rni~\n",
            "Cipher Text for the given input string is : *H:;CDid6Fpgf7mid*\n"
          ],
          "name": "stdout"
        }
      ]
    },
    {
      "cell_type": "code",
      "metadata": {
        "id": "cEJn9Abvz28j"
      },
      "source": [
        "#Creating a dictionary containing reversed subtituted values based on previous key\n",
        "sub_dict2={}\n",
        "for i in range(len(all_chars)):\n",
        "    sub_dict2[all_chars[i]]= all_chars[(i+key)%(len(all_chars))]"
      ],
      "execution_count": null,
      "outputs": []
    },
    {
      "cell_type": "code",
      "metadata": {
        "colab": {
          "base_uri": "https://localhost:8080/"
        },
        "id": "W34uveakz5EF",
        "outputId": "a14188fc-fcc5-44a6-d178-ddceb6ca3ecb"
      },
      "source": [
        "#looping through to recover original plain text using decrypted text\n",
        "decrypt_text=[]\n",
        "for char in cipher_text:\n",
        "    if char in all_chars:\n",
        "        temp= sub_dict2[char]\n",
        "        decrypt_text.append(temp)\n",
        "    else:\n",
        "        temp=char\n",
        "        decrypt_text.append(temp)\n",
        "decrypt_text= \"\".join(decrypt_text)\n",
        "print(f\"Recovered plain text is: {decrypt_text}\")"
      ],
      "execution_count": null,
      "outputs": [
        {
          "output_type": "stream",
          "text": [
            "Recovered plain text is: ~MedHIni!Kulk@rni~\n"
          ],
          "name": "stdout"
        }
      ]
    },
    {
      "cell_type": "markdown",
      "metadata": {
        "id": "_SZDX9qEz92F"
      },
      "source": [
        "B) TRANSPOSITION CIPHER"
      ]
    },
    {
      "cell_type": "code",
      "metadata": {
        "colab": {
          "base_uri": "https://localhost:8080/"
        },
        "id": "3Ne1Cn1l0jGs",
        "outputId": "f9536183-95bb-4a9e-88a3-f22452e2b9ab"
      },
      "source": [
        "#BASIC TRANPOSITION CIPHER ALGORITHM\n",
        "\n",
        "#splitting the given string into columns\n",
        "def split_len(seq, length):\n",
        "    return [seq[i:i + length] for i in range(0, len(seq), length)]\n",
        "\n",
        "#to create cipher text with key with given number of columns\n",
        "#and to print the cipher text by reading characters through each column\n",
        "def encode(key, plaintext):\n",
        "    order = {int(val): num for num, val in enumerate(key)}\n",
        "    cipher_text=[]\n",
        "    for index in sorted(order.keys()):\n",
        "        for part in split_len(plaintext, len(key)):\n",
        "            try:\n",
        "                cipher_text += part[order[index]]\n",
        "            except:\n",
        "                IndexError\n",
        "            continue\n",
        "    return cipher_text\n",
        "print(encode('3214', 'Medhini'))"
      ],
      "execution_count": null,
      "outputs": [
        {
          "output_type": "stream",
          "text": [
            "['d', 'i', 'e', 'n', 'M', 'i', 'h']\n"
          ],
          "name": "stdout"
        }
      ]
    },
    {
      "cell_type": "code",
      "metadata": {
        "colab": {
          "base_uri": "https://localhost:8080/"
        },
        "id": "O0UXU09l3GWt",
        "outputId": "365b8bdb-9891-4498-a983-2054a4940448"
      },
      "source": [
        "#Encrypting Transposition Cipher\n",
        "def main():\n",
        "   my_message = 'medhini'\n",
        "   my_key = 5\n",
        "   ciphertext = encryptMessage(my_key, my_message)\n",
        "\n",
        "   print(\"Cipher Text is\")\n",
        "   print(ciphertext + '|')\n",
        "\n",
        "def encryptMessage(key, message):\n",
        "  ciphertext = [''] * key\n",
        "  for col in range(key):\n",
        "    position = col\n",
        "    while position < len(message):\n",
        "      ciphertext[col] += message[position]\n",
        "      position += key\n",
        "  return ''.join(ciphertext) #Cipher text\n",
        "\n",
        "main()"
      ],
      "execution_count": null,
      "outputs": [
        {
          "output_type": "stream",
          "text": [
            "Cipher Text is\n",
            "mneidhi|\n"
          ],
          "name": "stdout"
        }
      ]
    },
    {
      "cell_type": "code",
      "metadata": {
        "colab": {
          "base_uri": "https://localhost:8080/"
        },
        "id": "gwQKJR7f6N4C",
        "outputId": "4ec2278b-a234-44ed-daf0-06f5689e8ecd"
      },
      "source": [
        "plain_text= input(\"Enter the string to be encrypted: \")\n",
        "key= int(input(\"Enter the key: \"))\n",
        "\n"
      ],
      "execution_count": null,
      "outputs": [
        {
          "output_type": "stream",
          "text": [
            "Enter the string to be encrypted: medhini\n",
            "Enter the key: 5\n"
          ],
          "name": "stdout"
        }
      ]
    },
    {
      "cell_type": "code",
      "metadata": {
        "colab": {
          "base_uri": "https://localhost:8080/"
        },
        "id": "c8vuCeX36huA",
        "outputId": "e5115904-95b0-47d4-9dc8-6626ed4049f4"
      },
      "source": [
        "#Convert plain_txt string to list\n",
        "plain_text= list(plain_text)\n",
        "cipher_text=[]\n",
        "n=len(plain_text)\n",
        "\n",
        "#loop to encrypt plain text into cipher text\n",
        "for i in range(n):\n",
        "    temp= plain_text[(i-key)%n]\n",
        "    cipher_text.append(temp)\n",
        "\n",
        "cipher_text=\"\".join(cipher_text)\n",
        "print(f\"Encrypted Cipher text is : {cipher_text}\")\n",
        "\n"
      ],
      "execution_count": null,
      "outputs": [
        {
          "output_type": "stream",
          "text": [
            "Encrypted Cipher text is : dhinime\n"
          ],
          "name": "stdout"
        }
      ]
    },
    {
      "cell_type": "code",
      "metadata": {
        "colab": {
          "base_uri": "https://localhost:8080/"
        },
        "id": "iBSQZT5F63Gi",
        "outputId": "0af834f7-2d61-4c94-9960-ec88d3b3bfe0"
      },
      "source": [
        "# loop to recover plain text from cipher text using decryption\n",
        "cipher_txt= list(cipher_txt)\n",
        "retrieved_txt = []\n",
        "for i in range(n):\n",
        "    temp1= cipher_txt[(i+key)%n]\n",
        "    retrieved_txt.append(temp1)\n",
        "\n",
        "retrieved_txt=\"\".join(retrieved_txt)\n",
        "print(f\"Retrieved Plain text is : {retrieved_txt}\")"
      ],
      "execution_count": null,
      "outputs": [
        {
          "output_type": "stream",
          "text": [
            "Retrieved Plain text is : medhini\n"
          ],
          "name": "stdout"
        }
      ]
    },
    {
      "cell_type": "markdown",
      "metadata": {
        "id": "I9z-q7do8LG9"
      },
      "source": [
        "**CONCLUSION -**\n",
        "\n",
        "In this experiment, we have coded an algorithm for Substitution and Caesar Cipher as well as Transposition Cipher. We see that for Caesar cipher, the key is always = 3.\n",
        "\n",
        "In Caesar Cipher, we have used th basic concept of the algorithm and displayed a set of dictionaries that contain the substituted values of the characters based on the key. We use this dictionary to encrypt and decrypt the input string.\n",
        "\n",
        "In Transposition Cipher, we have used Column Transposition. We first split the given string into columns and then encrypt it according to the key and the given sequence of column order it is supposed to follow. We have also shown the concept of using modular arithmetic to encrypt and decrypt a particuar string using Transposition Cipher.\n",
        "\n",
        "In conclusion, we have learned the above two ciphers and their algorithms and practically applied them to given data."
      ]
    }
  ]
}